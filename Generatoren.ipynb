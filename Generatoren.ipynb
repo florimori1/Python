{
 "cells": [
  {
   "cell_type": "code",
   "execution_count": 16,
   "id": "c3b18a15-2d34-4470-931c-c45be3ebbe70",
   "metadata": {},
   "outputs": [],
   "source": [
    "g = (n*3 for n in range(21) if not n % 2)"
   ]
  },
  {
   "cell_type": "code",
   "execution_count": 17,
   "id": "39c1abe5-c6a0-46ea-bb41-601bd2f4fb34",
   "metadata": {},
   "outputs": [
    {
     "data": {
      "text/plain": [
       "[0, 6, 12, 18, 24, 30, 36, 42, 48, 54, 60]"
      ]
     },
     "execution_count": 17,
     "metadata": {},
     "output_type": "execute_result"
    }
   ],
   "source": [
    "list(g)"
   ]
  },
  {
   "cell_type": "code",
   "execution_count": 70,
   "id": "1c4c0062-4957-4a33-8299-c2f0f822f12f",
   "metadata": {},
   "outputs": [],
   "source": [
    "f = (n*100 for n in range(1,10))"
   ]
  },
  {
   "cell_type": "code",
   "execution_count": 71,
   "id": "c1f7bfbf-acfc-4d12-9075-80b14b88b7ab",
   "metadata": {},
   "outputs": [],
   "source": [
    "def generatorfunktion():\n",
    "    yield 10\n",
    "    for x in f:\n",
    "        yield x"
   ]
  },
  {
   "cell_type": "code",
   "execution_count": 44,
   "id": "07bcf72e-65f2-4e6c-8652-ed829a60c8f1",
   "metadata": {},
   "outputs": [
    {
     "data": {
      "text/plain": [
       "[100, 200, 300, 400, 500, 600, 700, 800, 900]"
      ]
     },
     "execution_count": 44,
     "metadata": {},
     "output_type": "execute_result"
    }
   ],
   "source": []
  },
  {
   "cell_type": "code",
   "execution_count": 72,
   "id": "7c4a0eb9-0352-407f-abd4-97988ec969b4",
   "metadata": {},
   "outputs": [],
   "source": [
    "h = generatorfunktion()"
   ]
  },
  {
   "cell_type": "code",
   "execution_count": 73,
   "id": "878bf51d-9601-41c4-83c3-b1a0e0d0d153",
   "metadata": {},
   "outputs": [
    {
     "data": {
      "text/plain": [
       "10"
      ]
     },
     "execution_count": 73,
     "metadata": {},
     "output_type": "execute_result"
    }
   ],
   "source": [
    "next(h)"
   ]
  }
 ],
 "metadata": {
  "kernelspec": {
   "display_name": "Python 3.10",
   "language": "python",
   "name": "python310"
  },
  "language_info": {
   "codemirror_mode": {
    "name": "ipython",
    "version": 3
   },
   "file_extension": ".py",
   "mimetype": "text/x-python",
   "name": "python",
   "nbconvert_exporter": "python",
   "pygments_lexer": "ipython3",
   "version": "3.10.4"
  }
 },
 "nbformat": 4,
 "nbformat_minor": 5
}
