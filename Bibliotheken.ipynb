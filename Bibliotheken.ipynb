{
 "cells": [
  {
   "cell_type": "code",
   "execution_count": 2,
   "id": "c16d43a8-6629-426d-83b7-b8e1ac6e7537",
   "metadata": {},
   "outputs": [],
   "source": [
    "import myPack.mymodule as m\n",
    "import myPack.utils.helpers as k"
   ]
  },
  {
   "cell_type": "code",
   "execution_count": 3,
   "id": "fa9798a7-92ad-4303-bcf1-c08c69febfee",
   "metadata": {},
   "outputs": [
    {
     "name": "stdout",
     "output_type": "stream",
     "text": [
      "Hello World!\n"
     ]
    }
   ],
   "source": [
    "m.hello()"
   ]
  },
  {
   "cell_type": "code",
   "execution_count": 4,
   "id": "f2b9612a-7a4a-4662-a14f-3ecc627c1926",
   "metadata": {},
   "outputs": [
    {
     "name": "stdout",
     "output_type": "stream",
     "text": [
      "I would help you, if I could.\n"
     ]
    }
   ],
   "source": [
    "k.show_help()"
   ]
  }
 ],
 "metadata": {
  "kernelspec": {
   "display_name": "Python 3.10",
   "language": "python",
   "name": "python310"
  },
  "language_info": {
   "codemirror_mode": {
    "name": "ipython",
    "version": 3
   },
   "file_extension": ".py",
   "mimetype": "text/x-python",
   "name": "python",
   "nbconvert_exporter": "python",
   "pygments_lexer": "ipython3",
   "version": "3.10.4"
  }
 },
 "nbformat": 4,
 "nbformat_minor": 5
}
