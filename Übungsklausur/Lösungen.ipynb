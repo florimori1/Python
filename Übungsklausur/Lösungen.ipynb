{
 "cells": [
  {
   "cell_type": "code",
   "execution_count": 1,
   "id": "05ae112a-6a8b-4a90-92e6-0cf6214e0aca",
   "metadata": {},
   "outputs": [],
   "source": [
    "def get_coords():\n",
    "    \"\"\"REEDS all Coords\"\"\"\n",
    "    with open(\"coords.txt\") as fobj:\n",
    "         data = fobj.readlines()\n",
    "    return data"
   ]
  },
  {
   "cell_type": "code",
   "execution_count": 2,
   "id": "c0a8ba8c-7a2b-4166-bb10-4c42bfe0fbde",
   "metadata": {},
   "outputs": [
    {
     "name": "stdout",
     "output_type": "stream",
     "text": [
      "['X, Y\\n', '0.07330604878866975, 0.8014226821067756\\n', '0.1661575819631842, 1.800580523229894\\n', '0.6995403090391857, 2.9428426511704133\\n', '3.739693717843958, 3.273789345607889\\n', '4.6548452940121825, 3.2432474181215083\\n', '5.800609928703754, 2.2899099772482145\\n', '2.8739261867333927, 6.851536185480562\\n', '7.213831740018356, 6.9884182899511025\\n', '5.326744862838446, 2.47894007512006\\n', '6.4738431697340655, 8.064819056138258\\n', '9.391058372638053, 4.65542320269743\\n', '1.6948694982714723, 3.5560225045761187\\n', '1.5140093076206513, 3.1884934811256436\\n', '4.430058552698293, 2.25747312715163\\n', '10.852231279914546, 3.781204549788254\\n', '0.8270875691175572, 2.845477430116926\\n', '2.751993939849164, 15.630578767457608\\n', '0.950355329431521, 15.883654177194524\\n', '3.2673577026468132, 17.848028970597163\\n', '15.357127440374532, 12.3861418864545\\n']\n"
     ]
    }
   ],
   "source": [
    "data = get_coords()\n",
    "print(data)"
   ]
  },
  {
   "cell_type": "code",
   "execution_count": 3,
   "id": "1cff8570-1628-4af8-97b3-66cd4e4c411e",
   "metadata": {},
   "outputs": [
    {
     "name": "stdout",
     "output_type": "stream",
     "text": [
      "X, Y\n",
      "\n",
      "0.07330604878866975, 0.8014226821067756\n",
      "\n",
      "0.1661575819631842, 1.800580523229894\n",
      "\n",
      "0.6995403090391857, 2.9428426511704133\n",
      "\n",
      "3.739693717843958, 3.273789345607889\n",
      "\n",
      "4.6548452940121825, 3.2432474181215083\n",
      "\n",
      "5.800609928703754, 2.2899099772482145\n",
      "\n",
      "2.8739261867333927, 6.851536185480562\n",
      "\n",
      "7.213831740018356, 6.9884182899511025\n",
      "\n",
      "5.326744862838446, 2.47894007512006\n",
      "\n",
      "6.4738431697340655, 8.064819056138258\n",
      "\n",
      "9.391058372638053, 4.65542320269743\n",
      "\n",
      "1.6948694982714723, 3.5560225045761187\n",
      "\n",
      "1.5140093076206513, 3.1884934811256436\n",
      "\n",
      "4.430058552698293, 2.25747312715163\n",
      "\n",
      "10.852231279914546, 3.781204549788254\n",
      "\n",
      "0.8270875691175572, 2.845477430116926\n",
      "\n",
      "2.751993939849164, 15.630578767457608\n",
      "\n",
      "0.950355329431521, 15.883654177194524\n",
      "\n",
      "3.2673577026468132, 17.848028970597163\n",
      "\n",
      "15.357127440374532, 12.3861418864545\n",
      "\n"
     ]
    }
   ],
   "source": [
    "xdata=[]\n",
    "ydata=[]\n",
    "for x in data:\n",
    "    print(x)\n",
    "    x = x.strip()\n",
    "    if x.split(', ')[0] != \"X\":\n",
    "        xdata.append(x.split(', ')[0])\n",
    "        ydata.append((x.split(', ')[1]))"
   ]
  },
  {
   "cell_type": "code",
   "execution_count": 4,
   "id": "41a75ec4-45f8-42c2-b6cd-0a0c6130f062",
   "metadata": {},
   "outputs": [
    {
     "data": {
      "text/plain": [
       "['0.07330604878866975',\n",
       " '0.1661575819631842',\n",
       " '0.6995403090391857',\n",
       " '3.739693717843958',\n",
       " '4.6548452940121825',\n",
       " '5.800609928703754',\n",
       " '2.8739261867333927',\n",
       " '7.213831740018356',\n",
       " '5.326744862838446',\n",
       " '6.4738431697340655',\n",
       " '9.391058372638053',\n",
       " '1.6948694982714723',\n",
       " '1.5140093076206513',\n",
       " '4.430058552698293',\n",
       " '10.852231279914546',\n",
       " '0.8270875691175572',\n",
       " '2.751993939849164',\n",
       " '0.950355329431521',\n",
       " '3.2673577026468132',\n",
       " '15.357127440374532']"
      ]
     },
     "execution_count": 4,
     "metadata": {},
     "output_type": "execute_result"
    }
   ],
   "source": [
    "xdata"
   ]
  },
  {
   "cell_type": "code",
   "execution_count": 5,
   "id": "dc992403-9f7e-40e5-b56b-57369c18adb3",
   "metadata": {},
   "outputs": [
    {
     "data": {
      "text/plain": [
       "['0.8014226821067756',\n",
       " '1.800580523229894',\n",
       " '2.9428426511704133',\n",
       " '3.273789345607889',\n",
       " '3.2432474181215083',\n",
       " '2.2899099772482145',\n",
       " '6.851536185480562',\n",
       " '6.9884182899511025',\n",
       " '2.47894007512006',\n",
       " '8.064819056138258',\n",
       " '4.65542320269743',\n",
       " '3.5560225045761187',\n",
       " '3.1884934811256436',\n",
       " '2.25747312715163',\n",
       " '3.781204549788254',\n",
       " '2.845477430116926',\n",
       " '15.630578767457608',\n",
       " '15.883654177194524',\n",
       " '17.848028970597163',\n",
       " '12.3861418864545']"
      ]
     },
     "execution_count": 5,
     "metadata": {},
     "output_type": "execute_result"
    }
   ],
   "source": [
    "ydata"
   ]
  },
  {
   "cell_type": "code",
   "execution_count": 6,
   "id": "7b090cf6-e74b-4108-bc98-0ec377b92964",
   "metadata": {},
   "outputs": [],
   "source": [
    "def get_coords_in_dict():\n",
    "    \"\"\"Returns an DICT seperated by X coords and Y coords\"\"\"\n",
    "    data = get_coords\n",
    "    xdata=[]\n",
    "    ydata=[]\n",
    "    allcoords = {}\n",
    "    for x in data():\n",
    "        x = x.strip()\n",
    "        # x.split(',')[0] == \"X\"\n",
    "        if x.split(',')[0] != \"X\":\n",
    "            xdata.append(x.split(', ')[0])\n",
    "            ydata.append((x.split(', ')[1]))\n",
    "        else:\n",
    "            KeyX = x.split(', ')[0]\n",
    "            KeyY = x.split(', ')[1]\n",
    "\n",
    "    allcords = {KeyX: xdata, KeyY: ydata}\n",
    "    return allcords"
   ]
  },
  {
   "cell_type": "code",
   "execution_count": 7,
   "id": "262acc98-b135-4820-9533-82ee6f740894",
   "metadata": {},
   "outputs": [],
   "source": [
    "coords_dict = get_coords_in_dict()"
   ]
  },
  {
   "cell_type": "code",
   "execution_count": 8,
   "id": "b49b30eb-3ed2-4d26-bbae-8fc9e97769ca",
   "metadata": {},
   "outputs": [],
   "source": [
    "def sum_list(xdata, ydata):\n",
    "    \"\"\"Gibt die Summe der Coordinaten zurück\"\"\"\n",
    "    summex = 0\n",
    "    summey = 0\n",
    "    for x in xdata:\n",
    "        summex = summex + float(x)\n",
    "    for y in ydata:\n",
    "        summey = summey + float(y)\n",
    "    Ergebnis = (summex, summey)\n",
    "    return Ergebnis"
   ]
  },
  {
   "cell_type": "code",
   "execution_count": 9,
   "id": "5af690b2-5152-4e5f-9f7d-ff9f9cadf42a",
   "metadata": {},
   "outputs": [
    {
     "data": {
      "text/plain": [
       "(88.05864783223778, 120.76800430133447)"
      ]
     },
     "execution_count": 9,
     "metadata": {},
     "output_type": "execute_result"
    }
   ],
   "source": [
    "sum_list(xdata, ydata)"
   ]
  },
  {
   "cell_type": "code",
   "execution_count": 10,
   "id": "81efed30-db22-44a7-825a-c4c73f928130",
   "metadata": {},
   "outputs": [],
   "source": [
    "def sum_dict(coords_dict):\n",
    "    \"\"\"Gibt die Summe der Coordinaten Zurück\"\"\"\n",
    "    summex = 0\n",
    "    summey = 0\n",
    "    for x in coords_dict[\"X\"]:\n",
    "        summex = summex + float(x)\n",
    "    for y in coords_dict[\"Y\"]:\n",
    "        summey = summey + float(y)\n",
    "    Ergebnis = (summex, summey)\n",
    "    return Ergebnis"
   ]
  },
  {
   "cell_type": "code",
   "execution_count": 11,
   "id": "7513536d-cd21-4881-80e4-efc05ea7f76a",
   "metadata": {},
   "outputs": [
    {
     "data": {
      "text/plain": [
       "(88.05864783223778, 120.76800430133447)"
      ]
     },
     "execution_count": 11,
     "metadata": {},
     "output_type": "execute_result"
    }
   ],
   "source": [
    "sum_dict(coords_dict)"
   ]
  },
  {
   "cell_type": "code",
   "execution_count": 12,
   "id": "128f65c9-baab-4de9-a67f-36115f2fd40d",
   "metadata": {},
   "outputs": [
    {
     "data": {
      "text/plain": [
       "True"
      ]
     },
     "execution_count": 12,
     "metadata": {},
     "output_type": "execute_result"
    }
   ],
   "source": [
    "sum_dict(coords_dict) == sum_list(xdata, ydata)"
   ]
  },
  {
   "cell_type": "code",
   "execution_count": 13,
   "id": "3961a5ae-c1dd-4acd-8192-d61d674d68d5",
   "metadata": {},
   "outputs": [],
   "source": [
    "import Coords"
   ]
  },
  {
   "cell_type": "code",
   "execution_count": 14,
   "id": "5298f1bb-9048-4809-b2ff-27e5162d846f",
   "metadata": {},
   "outputs": [
    {
     "data": {
      "text/plain": [
       "(88.05864783223778, 120.76800430133447)"
      ]
     },
     "execution_count": 14,
     "metadata": {},
     "output_type": "execute_result"
    }
   ],
   "source": [
    "Coords.sum_dict(coords_dict)"
   ]
  },
  {
   "cell_type": "code",
   "execution_count": 15,
   "id": "8a4156c8-d0dd-4aa5-8160-8a2df35fd4a9",
   "metadata": {},
   "outputs": [],
   "source": [
    "import math"
   ]
  },
  {
   "cell_type": "code",
   "execution_count": 45,
   "id": "c53d4d92-1775-4453-b300-b14856ff229a",
   "metadata": {},
   "outputs": [],
   "source": [
    "class Coords:\n",
    "    def __init__(self, x, y):\n",
    "        \"\"\"Initialisiert X und Y\"\"\"\n",
    "        self.x = x\n",
    "        self.y = y\n",
    "        self.dist = math.sqrt(x**2 + y **2)\n",
    "        \n",
    "    def __repr__(self):\n",
    "        \"\"\"Representiert die Klasse Coords\"\"\"\n",
    "        return (f\"Coords({self.x}, {self.y})\")\n",
    "    \n",
    "    def __add__(self, coords2):\n",
    "        \"\"\"Addiert die x und y Werter zweier Coords\"\"\"\n",
    "        return Coords(self.x + coords2.x, self.y + coords2.y)\n",
    "    "
   ]
  },
  {
   "cell_type": "code",
   "execution_count": 49,
   "id": "44468b32-47f2-4cfc-bd35-56ec1671cef6",
   "metadata": {},
   "outputs": [],
   "source": [
    "coords1 = Coords(2,3)"
   ]
  },
  {
   "cell_type": "code",
   "execution_count": 50,
   "id": "1e67880f-99ad-4b65-98d1-f581e0d8992e",
   "metadata": {},
   "outputs": [
    {
     "name": "stdout",
     "output_type": "stream",
     "text": [
      "3.605551275463989\n"
     ]
    }
   ],
   "source": [
    "print(coords1.dist)"
   ]
  },
  {
   "cell_type": "code",
   "execution_count": 51,
   "id": "2f30218b-870e-4fd4-b0e7-6f73c1931e51",
   "metadata": {},
   "outputs": [
    {
     "data": {
      "text/plain": [
       "Coords(2, 3)"
      ]
     },
     "execution_count": 51,
     "metadata": {},
     "output_type": "execute_result"
    }
   ],
   "source": [
    "coords1"
   ]
  },
  {
   "cell_type": "code",
   "execution_count": 52,
   "id": "37003954-4ed4-4a3f-84af-a2d09f663dcd",
   "metadata": {},
   "outputs": [],
   "source": [
    "instanzenListe =[]"
   ]
  },
  {
   "cell_type": "code",
   "execution_count": 53,
   "id": "75fcbafb-28a3-4091-bf55-d93bce4ffd45",
   "metadata": {},
   "outputs": [],
   "source": [
    "for i in range(len(xdata)):\n",
    "    instanzenListe.append(Cords(float(xdata[i]),float(ydata[i])))"
   ]
  },
  {
   "cell_type": "code",
   "execution_count": 54,
   "id": "e7bd2e6f-d540-4a32-a811-dcaef61e4691",
   "metadata": {},
   "outputs": [
    {
     "name": "stdout",
     "output_type": "stream",
     "text": [
      "[Coords(0.07330604878866975, 0.8014226821067756), Coords(0.1661575819631842, 1.800580523229894), Coords(0.6995403090391857, 2.9428426511704133), Coords(3.739693717843958, 3.273789345607889), Coords(4.6548452940121825, 3.2432474181215083), Coords(5.800609928703754, 2.2899099772482145), Coords(2.8739261867333927, 6.851536185480562), Coords(7.213831740018356, 6.9884182899511025), Coords(5.326744862838446, 2.47894007512006), Coords(6.4738431697340655, 8.064819056138258), Coords(9.391058372638053, 4.65542320269743), Coords(1.6948694982714723, 3.5560225045761187), Coords(1.5140093076206513, 3.1884934811256436), Coords(4.430058552698293, 2.25747312715163), Coords(10.852231279914546, 3.781204549788254), Coords(0.8270875691175572, 2.845477430116926), Coords(2.751993939849164, 15.630578767457608), Coords(0.950355329431521, 15.883654177194524), Coords(3.2673577026468132, 17.848028970597163), Coords(15.357127440374532, 12.3861418864545)]\n"
     ]
    }
   ],
   "source": [
    "print(instanzenListe)"
   ]
  },
  {
   "cell_type": "code",
   "execution_count": 55,
   "id": "d69b8c67-c31f-4683-b6ee-91816695bee6",
   "metadata": {},
   "outputs": [],
   "source": [
    "coords2 = Coords(7, 2)"
   ]
  },
  {
   "cell_type": "code",
   "execution_count": 56,
   "id": "ba34be6c-cdf8-4a0c-9069-544a47d69416",
   "metadata": {},
   "outputs": [
    {
     "data": {
      "text/plain": [
       "Coords(9, 5)"
      ]
     },
     "execution_count": 56,
     "metadata": {},
     "output_type": "execute_result"
    }
   ],
   "source": [
    "coords1 + coords2"
   ]
  },
  {
   "cell_type": "code",
   "execution_count": null,
   "id": "3bc99b00-4378-4f7a-a2cd-9c766e06462a",
   "metadata": {},
   "outputs": [],
   "source": []
  }
 ],
 "metadata": {
  "kernelspec": {
   "display_name": "Python 3.10",
   "language": "python",
   "name": "python310"
  },
  "language_info": {
   "codemirror_mode": {
    "name": "ipython",
    "version": 3
   },
   "file_extension": ".py",
   "mimetype": "text/x-python",
   "name": "python",
   "nbconvert_exporter": "python",
   "pygments_lexer": "ipython3",
   "version": "3.10.4"
  }
 },
 "nbformat": 4,
 "nbformat_minor": 5
}
