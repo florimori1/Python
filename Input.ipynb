{
 "cells": [
  {
   "cell_type": "markdown",
   "id": "ee12b7c5-b474-48df-92bb-105801cb2155",
   "metadata": {},
   "source": [
    "# 5.1.1"
   ]
  },
  {
   "cell_type": "code",
   "execution_count": 18,
   "id": "2d2f1d91-a2c8-4462-bb2b-1d32447fe4d7",
   "metadata": {},
   "outputs": [
    {
     "name": "stdin",
     "output_type": "stream",
     "text": [
      "Gib Zahl 74\n"
     ]
    }
   ],
   "source": [
    "eingabe = float(input(\"Gib Zahl\"))"
   ]
  },
  {
   "cell_type": "code",
   "execution_count": 19,
   "id": "bbf1688a-99d2-4a83-833c-1547b58bb3f7",
   "metadata": {},
   "outputs": [
    {
     "name": "stdout",
     "output_type": "stream",
     "text": [
      "Liegt drüber!\n"
     ]
    }
   ],
   "source": [
    "grenzwert = 70\n",
    "if eingabe > grenzwert:\n",
    "    print(\"Liegt drüber!\")\n",
    "elif eingabe < grenzwert:\n",
    "    print(\"Liegt drunter!\")\n",
    "else:\n",
    "    print(\"Perfekt!\")"
   ]
  },
  {
   "cell_type": "code",
   "execution_count": 20,
   "id": "ca04a609-f043-4037-85e4-8c322c25bec2",
   "metadata": {},
   "outputs": [
    {
     "name": "stdout",
     "output_type": "stream",
     "text": [
      "Im Bereich des Möglichen.\n"
     ]
    }
   ],
   "source": [
    "if eingabe > (grenzwert-5) and eingabe < (grenzwert+5):\n",
    "    print(\"Im Bereich des Möglichen.\")\n",
    "else:\n",
    "    print(\"Lost.\")"
   ]
  },
  {
   "cell_type": "code",
   "execution_count": null,
   "id": "e8c6bfd5-b963-4849-aa6e-55ee06a4c191",
   "metadata": {},
   "outputs": [],
   "source": []
  }
 ],
 "metadata": {
  "kernelspec": {
   "display_name": "Python 3.10",
   "language": "python",
   "name": "python310"
  },
  "language_info": {
   "codemirror_mode": {
    "name": "ipython",
    "version": 3
   },
   "file_extension": ".py",
   "mimetype": "text/x-python",
   "name": "python",
   "nbconvert_exporter": "python",
   "pygments_lexer": "ipython3",
   "version": "3.10.4"
  }
 },
 "nbformat": 4,
 "nbformat_minor": 5
}
