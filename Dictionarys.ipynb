{
 "cells": [
  {
   "cell_type": "code",
   "execution_count": 28,
   "id": "a098cbef-1c37-4286-8f72-49b6407e14ae",
   "metadata": {},
   "outputs": [],
   "source": [
    "D1 = {\"Tom\" : 984217834982173412, \"Phil\" : 821634897217382198, \"Ron\" : 123817231287312}"
   ]
  },
  {
   "cell_type": "code",
   "execution_count": 3,
   "id": "48caef79-914f-4b35-afe1-670f77b7b32d",
   "metadata": {},
   "outputs": [
    {
     "data": {
      "text/plain": [
       "821634897217382198"
      ]
     },
     "execution_count": 3,
     "metadata": {},
     "output_type": "execute_result"
    }
   ],
   "source": [
    "D1[\"Phil\"]"
   ]
  },
  {
   "cell_type": "code",
   "execution_count": 5,
   "id": "d2879eea-e94c-47d4-95d4-8c69a90e31f6",
   "metadata": {},
   "outputs": [
    {
     "data": {
      "text/plain": [
       "True"
      ]
     },
     "execution_count": 5,
     "metadata": {},
     "output_type": "execute_result"
    }
   ],
   "source": [
    "\"Ron\" in D1"
   ]
  },
  {
   "cell_type": "code",
   "execution_count": 8,
   "id": "4ad755a7-1e23-4687-b714-8a36fc05d5af",
   "metadata": {},
   "outputs": [
    {
     "data": {
      "text/plain": [
       "dict_values([984217834982173412, 821634897217382198, 123817231287312])"
      ]
     },
     "execution_count": 8,
     "metadata": {},
     "output_type": "execute_result"
    }
   ],
   "source": [
    "D1.values()"
   ]
  },
  {
   "cell_type": "code",
   "execution_count": 9,
   "id": "2b6c43cd-261e-4ede-b78f-76103315dd68",
   "metadata": {},
   "outputs": [
    {
     "data": {
      "text/plain": [
       "dict_keys(['Tom', 'Phil', 'Ron'])"
      ]
     },
     "execution_count": 9,
     "metadata": {},
     "output_type": "execute_result"
    }
   ],
   "source": [
    "D1.keys()"
   ]
  },
  {
   "cell_type": "code",
   "execution_count": 15,
   "id": "9868be63-f925-48b2-a289-65f618d4cb46",
   "metadata": {},
   "outputs": [
    {
     "data": {
      "text/plain": [
       "0"
      ]
     },
     "execution_count": 15,
     "metadata": {},
     "output_type": "execute_result"
    }
   ],
   "source": [
    "D1.get(\"Lucas\", 0)"
   ]
  },
  {
   "cell_type": "code",
   "execution_count": 17,
   "id": "5a017432-5228-46d5-8933-9124b64d45f9",
   "metadata": {},
   "outputs": [],
   "source": [
    "D1[\"Lucas\"] = 49782173902183"
   ]
  },
  {
   "cell_type": "code",
   "execution_count": 18,
   "id": "b5f8ac2d-4de0-418f-b1bd-9922958e78e7",
   "metadata": {},
   "outputs": [
    {
     "data": {
      "text/plain": [
       "{'Tom': 984217834982173412,\n",
       " 'Phil': 821634897217382198,\n",
       " 'Ron': 123817231287312,\n",
       " 'Lucas': 49782173902183}"
      ]
     },
     "execution_count": 18,
     "metadata": {},
     "output_type": "execute_result"
    }
   ],
   "source": [
    "D1"
   ]
  },
  {
   "cell_type": "code",
   "execution_count": 20,
   "id": "d5189c90-a6b1-4ac9-b312-1dcbcd1d5843",
   "metadata": {},
   "outputs": [],
   "source": [
    "D2 = {\"Flo\" : 4813274981211111, \"Lucas\": 8123981273921222222}"
   ]
  },
  {
   "cell_type": "code",
   "execution_count": 21,
   "id": "094bb0f2-4122-470f-8f8d-8fa409bb9a99",
   "metadata": {},
   "outputs": [
    {
     "data": {
      "text/plain": [
       "{'Flo': 4813274981211111, 'Lucas': 8123981273921222222}"
      ]
     },
     "execution_count": 21,
     "metadata": {},
     "output_type": "execute_result"
    }
   ],
   "source": [
    "D2"
   ]
  },
  {
   "cell_type": "code",
   "execution_count": 22,
   "id": "2c4878c3-de60-4ae2-b626-7a2ffa8b9cbf",
   "metadata": {},
   "outputs": [],
   "source": [
    "for x in D2:\n",
    "    D1[x] = D2[x]"
   ]
  },
  {
   "cell_type": "code",
   "execution_count": 30,
   "id": "ab005cff-2636-41bd-aae8-e5daf1b2957a",
   "metadata": {},
   "outputs": [],
   "source": [
    "D1.update(D2)"
   ]
  },
  {
   "cell_type": "code",
   "execution_count": 31,
   "id": "c63e9dc7-bb1a-4492-921a-26f14e390f39",
   "metadata": {},
   "outputs": [
    {
     "data": {
      "text/plain": [
       "{'Tom': 984217834982173412,\n",
       " 'Phil': 821634897217382198,\n",
       " 'Ron': 123817231287312,\n",
       " 'Flo': 4813274981211111,\n",
       " 'Lucas': 8123981273921222222}"
      ]
     },
     "execution_count": 31,
     "metadata": {},
     "output_type": "execute_result"
    }
   ],
   "source": [
    "D1"
   ]
  },
  {
   "cell_type": "code",
   "execution_count": 32,
   "id": "418c838f-8f51-4fe7-903f-07b7b6f57975",
   "metadata": {},
   "outputs": [],
   "source": [
    "del D1[\"Lucas\"]"
   ]
  },
  {
   "cell_type": "code",
   "execution_count": 33,
   "id": "fc5330f3-9f81-460e-aedf-0ade78a80ef8",
   "metadata": {},
   "outputs": [
    {
     "data": {
      "text/plain": [
       "{'Tom': 984217834982173412,\n",
       " 'Phil': 821634897217382198,\n",
       " 'Ron': 123817231287312,\n",
       " 'Flo': 4813274981211111}"
      ]
     },
     "execution_count": 33,
     "metadata": {},
     "output_type": "execute_result"
    }
   ],
   "source": [
    "D1"
   ]
  },
  {
   "cell_type": "code",
   "execution_count": 35,
   "id": "8704916f-91c7-4957-9858-2d2db8761248",
   "metadata": {},
   "outputs": [
    {
     "data": {
      "text/plain": [
       "821634897217382198"
      ]
     },
     "execution_count": 35,
     "metadata": {},
     "output_type": "execute_result"
    }
   ],
   "source": [
    "D1.pop(\"Phil\")"
   ]
  },
  {
   "cell_type": "code",
   "execution_count": 36,
   "id": "6796d2cb-b4c6-4db1-bde1-3f88491991a0",
   "metadata": {},
   "outputs": [
    {
     "data": {
      "text/plain": [
       "{'Tom': 984217834982173412, 'Ron': 123817231287312, 'Flo': 4813274981211111}"
      ]
     },
     "execution_count": 36,
     "metadata": {},
     "output_type": "execute_result"
    }
   ],
   "source": [
    "D1"
   ]
  },
  {
   "cell_type": "code",
   "execution_count": null,
   "id": "5377e4b3-0a19-4f6f-b984-c02019c73043",
   "metadata": {},
   "outputs": [],
   "source": []
  }
 ],
 "metadata": {
  "kernelspec": {
   "display_name": "Python 3.10",
   "language": "python",
   "name": "python310"
  },
  "language_info": {
   "codemirror_mode": {
    "name": "ipython",
    "version": 3
   },
   "file_extension": ".py",
   "mimetype": "text/x-python",
   "name": "python",
   "nbconvert_exporter": "python",
   "pygments_lexer": "ipython3",
   "version": "3.10.4"
  }
 },
 "nbformat": 4,
 "nbformat_minor": 5
}
