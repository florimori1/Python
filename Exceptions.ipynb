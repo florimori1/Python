{
 "cells": [
  {
   "cell_type": "code",
   "execution_count": 11,
   "id": "f7792a70-3f8d-4de2-b778-cf762de19bdc",
   "metadata": {},
   "outputs": [
    {
     "ename": "IndentationError",
     "evalue": "expected an indented block after 'try' statement on line 4 (269963052.py, line 5)",
     "output_type": "error",
     "traceback": [
      "\u001b[0;36m  Input \u001b[0;32mIn [11]\u001b[0;36m\u001b[0m\n\u001b[0;31m    self.myAttribute = myAttribute\u001b[0m\n\u001b[0m    ^\u001b[0m\n\u001b[0;31mIndentationError\u001b[0m\u001b[0;31m:\u001b[0m expected an indented block after 'try' statement on line 4\n"
     ]
    }
   ],
   "source": [
    "class MyException:\n",
    "    def __init__(self, myAttribute):\n",
    "        \"\"\"Initiiert Klasse\"\"\"\n",
    "        self.myAttribute = myAttribute\n",
    "\n",
    "\n"
   ]
  },
  {
   "cell_type": "code",
   "execution_count": 16,
   "id": "63983bda-bab5-4b3a-bac8-51f36dac0485",
   "metadata": {},
   "outputs": [
    {
     "name": "stdout",
     "output_type": "stream",
     "text": [
      "FERTIG !\n"
     ]
    }
   ],
   "source": [
    "try:\n",
    "    myexception = MyException(\"Kekw\")\n",
    "    myexception.__getattribute__(\"myAttribute\")\n",
    "except AttributeError:\n",
    "    print(\"Attribute ist nicht Definiert\")\n",
    "finally:\n",
    "    print(\"FERTIG !\")"
   ]
  },
  {
   "cell_type": "code",
   "execution_count": 17,
   "id": "08138b0d-a95b-48dd-9849-4495429d8795",
   "metadata": {},
   "outputs": [],
   "source": [
    "L = [1, 2, 3, 4, 5]"
   ]
  },
  {
   "cell_type": "code",
   "execution_count": 20,
   "id": "25ddc4c5-a0a6-4728-8537-2fa73e74a1b3",
   "metadata": {},
   "outputs": [
    {
     "name": "stdout",
     "output_type": "stream",
     "text": [
      "list index out of range\n"
     ]
    }
   ],
   "source": [
    "try:\n",
    "    L[7]\n",
    "except IndexError:\n",
    "    print(\"list index out of range\")"
   ]
  },
  {
   "cell_type": "code",
   "execution_count": 35,
   "id": "4367fa1b-4e5c-49f7-8c1d-61f9712db0b3",
   "metadata": {},
   "outputs": [],
   "source": [
    "def myDict(dictionary, key, vorgabewert = None):\n",
    "    \"\"\"Durchsucht Dictionary nach angegebenen KEY\"\"\"\n",
    "    try:\n",
    "        dictionary.get(key)\n",
    "        return dictionary[key]\n",
    "    except KeyError:\n",
    "       #print(f\"Dictionary hat kein Element mit dem Key : {key}\")\n",
    "        return vorgabewert"
   ]
  },
  {
   "cell_type": "code",
   "execution_count": 36,
   "id": "d08ef8da-ffd7-4fe6-ac73-0c92ad9f8db9",
   "metadata": {},
   "outputs": [],
   "source": [
    "my_dict = {\"Len\" : 3214762462, \"Ole\": 324798623948632}"
   ]
  },
  {
   "cell_type": "code",
   "execution_count": 38,
   "id": "57d937af-397c-4c83-90cd-cf8dc51de613",
   "metadata": {},
   "outputs": [
    {
     "name": "stdout",
     "output_type": "stream",
     "text": [
      "2000\n"
     ]
    }
   ],
   "source": [
    "print(myDict(my_dict, \"Phil\", 2000))\n"
   ]
  },
  {
   "cell_type": "code",
   "execution_count": 1,
   "id": "c9960b13-6f64-4e42-b330-2e1e0b0c1ada",
   "metadata": {},
   "outputs": [],
   "source": [
    "class PositiveOnly(Exception):\n",
    "    \"\"\"Neue Exception\"\"\"\n",
    "    pass"
   ]
  },
  {
   "cell_type": "code",
   "execution_count": 45,
   "id": "f504a07f-f0d6-48c7-a85d-529f56d96452",
   "metadata": {},
   "outputs": [
    {
     "ename": "PositiveOnly",
     "evalue": "Is Negative",
     "output_type": "error",
     "traceback": [
      "\u001b[0;31m---------------------------------------------------------------------------\u001b[0m",
      "\u001b[0;31mPositiveOnly\u001b[0m                              Traceback (most recent call last)",
      "Input \u001b[0;32mIn [45]\u001b[0m, in \u001b[0;36m<cell line: 1>\u001b[0;34m()\u001b[0m\n\u001b[1;32m      1\u001b[0m \u001b[38;5;28;01mif\u001b[39;00m \u001b[38;5;241m-\u001b[39m\u001b[38;5;241m1\u001b[39m\u001b[38;5;241m<\u001b[39m\u001b[38;5;241m0\u001b[39m :\n\u001b[0;32m----> 2\u001b[0m     \u001b[38;5;28;01mraise\u001b[39;00m PositiveOnly(\u001b[38;5;124m\"\u001b[39m\u001b[38;5;124mIs Negative\u001b[39m\u001b[38;5;124m\"\u001b[39m)\n",
      "\u001b[0;31mPositiveOnly\u001b[0m: Is Negative"
     ]
    }
   ],
   "source": [
    "if -1<0 :\n",
    "    raise PositiveOnly(\"Is Negative\")"
   ]
  },
  {
   "cell_type": "code",
   "execution_count": null,
   "id": "7a3b7a6d-3e4a-4866-a6f9-c5ba5492f687",
   "metadata": {},
   "outputs": [],
   "source": []
  }
 ],
 "metadata": {
  "kernelspec": {
   "display_name": "Python 3.10",
   "language": "python",
   "name": "python310"
  },
  "language_info": {
   "codemirror_mode": {
    "name": "ipython",
    "version": 3
   },
   "file_extension": ".py",
   "mimetype": "text/x-python",
   "name": "python",
   "nbconvert_exporter": "python",
   "pygments_lexer": "ipython3",
   "version": "3.10.4"
  }
 },
 "nbformat": 4,
 "nbformat_minor": 5
}
