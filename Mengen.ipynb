{
 "cells": [
  {
   "cell_type": "code",
   "execution_count": 10,
   "id": "656e1605-add8-4b7d-a19f-9414855a7074",
   "metadata": {},
   "outputs": [],
   "source": [
    "S1 = set((\"Fritz\", \"Red Rifle\", \"Mohammad\"))"
   ]
  },
  {
   "cell_type": "code",
   "execution_count": 11,
   "id": "b03f42ee-a412-479c-9093-e7772f3ccac3",
   "metadata": {},
   "outputs": [],
   "source": [
    "S2 = set((\"Floriano\", \"Jonas Pohl\", \"Fritz\"))"
   ]
  },
  {
   "cell_type": "code",
   "execution_count": 12,
   "id": "06ec4778-59c5-43c2-a8ba-fc1a772808b1",
   "metadata": {},
   "outputs": [
    {
     "data": {
      "text/plain": [
       "{'Fritz'}"
      ]
     },
     "execution_count": 12,
     "metadata": {},
     "output_type": "execute_result"
    }
   ],
   "source": [
    "S1.intersection(S2)"
   ]
  },
  {
   "cell_type": "code",
   "execution_count": 13,
   "id": "186556f5-de46-491b-8de0-1b08715f5c3c",
   "metadata": {},
   "outputs": [
    {
     "data": {
      "text/plain": [
       "{'Mohammad', 'Red Rifle'}"
      ]
     },
     "execution_count": 13,
     "metadata": {},
     "output_type": "execute_result"
    }
   ],
   "source": [
    "S1 - S2"
   ]
  },
  {
   "cell_type": "code",
   "execution_count": 16,
   "id": "119621e2-fdaf-4d64-ae98-311e84511c44",
   "metadata": {},
   "outputs": [
    {
     "data": {
      "text/plain": [
       "{'Floriano', 'Fritz', 'Jonas Pohl', 'Mohammad', 'Red Rifle'}"
      ]
     },
     "execution_count": 16,
     "metadata": {},
     "output_type": "execute_result"
    }
   ],
   "source": [
    "S1.union(S2)"
   ]
  },
  {
   "cell_type": "code",
   "execution_count": 22,
   "id": "ce426ae3-253c-4569-b8a9-c9f6db201ecb",
   "metadata": {},
   "outputs": [],
   "source": [
    "S3 = {\"Mohammad\", \"Red Rifle\"}"
   ]
  },
  {
   "cell_type": "code",
   "execution_count": 23,
   "id": "364486e9-0eca-4d8a-b7f5-4ae1288a1219",
   "metadata": {},
   "outputs": [
    {
     "data": {
      "text/plain": [
       "True"
      ]
     },
     "execution_count": 23,
     "metadata": {},
     "output_type": "execute_result"
    }
   ],
   "source": [
    "S3.issubset(S1)"
   ]
  },
  {
   "cell_type": "code",
   "execution_count": null,
   "id": "a88131ba-9dfd-4a49-95a8-8197af6af9bd",
   "metadata": {},
   "outputs": [],
   "source": []
  }
 ],
 "metadata": {
  "kernelspec": {
   "display_name": "Python 3.10",
   "language": "python",
   "name": "python310"
  },
  "language_info": {
   "codemirror_mode": {
    "name": "ipython",
    "version": 3
   },
   "file_extension": ".py",
   "mimetype": "text/x-python",
   "name": "python",
   "nbconvert_exporter": "python",
   "pygments_lexer": "ipython3",
   "version": "3.10.4"
  }
 },
 "nbformat": 4,
 "nbformat_minor": 5
}
