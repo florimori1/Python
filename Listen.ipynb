{
 "cells": [
  {
   "cell_type": "code",
   "execution_count": 3,
   "id": "007c93dd-da44-458a-972b-63ea9a9a4b6c",
   "metadata": {},
   "outputs": [],
   "source": [
    "L = [1, 2, 3, 4, 5, 6, 7, 8, 9, 10, 11, 12]"
   ]
  },
  {
   "cell_type": "code",
   "execution_count": 4,
   "id": "fa8ca7b4-2bd9-498c-8744-f6c0e65fc500",
   "metadata": {},
   "outputs": [],
   "source": [
    "L[0] = 0"
   ]
  },
  {
   "cell_type": "code",
   "execution_count": 5,
   "id": "49b27b55-87a2-4a27-9f81-d9b924e0b604",
   "metadata": {},
   "outputs": [
    {
     "data": {
      "text/plain": [
       "[0, 2, 3, 4, 5, 6, 7, 8, 9, 10, 11, 12]"
      ]
     },
     "execution_count": 5,
     "metadata": {},
     "output_type": "execute_result"
    }
   ],
   "source": [
    "L"
   ]
  },
  {
   "cell_type": "code",
   "execution_count": 7,
   "id": "d0691d6f-1859-43af-8d22-e17fc529133c",
   "metadata": {},
   "outputs": [],
   "source": [
    "del L[2:6]"
   ]
  },
  {
   "cell_type": "code",
   "execution_count": 16,
   "id": "4772a256-e5f0-46d2-b656-f34d276091ba",
   "metadata": {},
   "outputs": [
    {
     "data": {
      "text/plain": [
       "[0, 2, 7, 1, 2, 3, 4, 5, 6, 7, 8]"
      ]
     },
     "execution_count": 16,
     "metadata": {},
     "output_type": "execute_result"
    }
   ],
   "source": [
    "L"
   ]
  },
  {
   "cell_type": "code",
   "execution_count": 17,
   "id": "00c59660-a52e-4080-84f5-c5406c054f9e",
   "metadata": {},
   "outputs": [],
   "source": [
    "L = L[0:3] + [1, 2, 3, 4, 5, 6, 7, 8] + L[6:]"
   ]
  },
  {
   "cell_type": "code",
   "execution_count": 18,
   "id": "57704bcc-4829-4605-8b11-1826165da441",
   "metadata": {},
   "outputs": [
    {
     "data": {
      "text/plain": [
       "[0, 2, 7, 1, 2, 3, 4, 5, 6, 7, 8, 4, 5, 6, 7, 8]"
      ]
     },
     "execution_count": 18,
     "metadata": {},
     "output_type": "execute_result"
    }
   ],
   "source": [
    "L"
   ]
  },
  {
   "cell_type": "code",
   "execution_count": 19,
   "id": "a827e9a0-2b30-406f-bace-1ddaa3fd29fe",
   "metadata": {},
   "outputs": [],
   "source": [
    "L.append(10)"
   ]
  },
  {
   "cell_type": "code",
   "execution_count": 20,
   "id": "bb89367b-c714-4c33-b209-e2504a056085",
   "metadata": {},
   "outputs": [],
   "source": [
    "L.append(20)"
   ]
  },
  {
   "cell_type": "code",
   "execution_count": 21,
   "id": "e65ad176-801c-4793-9659-5a38f8ee7692",
   "metadata": {},
   "outputs": [],
   "source": [
    "L.append(30)"
   ]
  },
  {
   "cell_type": "code",
   "execution_count": 22,
   "id": "98abba7e-46b6-4d76-a534-d3757523cfea",
   "metadata": {},
   "outputs": [],
   "source": [
    "L.append(40)"
   ]
  },
  {
   "cell_type": "code",
   "execution_count": 23,
   "id": "05167ff9-7dda-4872-aad2-e0ca4bdd349f",
   "metadata": {},
   "outputs": [],
   "source": [
    "L.append(50)"
   ]
  },
  {
   "cell_type": "code",
   "execution_count": 24,
   "id": "dbed1ac2-e539-44c5-ba09-cd12204433f1",
   "metadata": {},
   "outputs": [
    {
     "data": {
      "text/plain": [
       "[0, 2, 7, 1, 2, 3, 4, 5, 6, 7, 8, 4, 5, 6, 7, 8, 10, 20, 30, 40, 50]"
      ]
     },
     "execution_count": 24,
     "metadata": {},
     "output_type": "execute_result"
    }
   ],
   "source": [
    "L"
   ]
  },
  {
   "cell_type": "code",
   "execution_count": 34,
   "id": "14778e7a-d1b4-4563-8882-6e1d06055bd5",
   "metadata": {},
   "outputs": [],
   "source": [
    "L = L + [10, 20, 30, 60, 50]"
   ]
  },
  {
   "cell_type": "code",
   "execution_count": 35,
   "id": "677ac3be-bb8f-452d-b844-0ea500bd4aac",
   "metadata": {},
   "outputs": [
    {
     "data": {
      "text/plain": [
       "[0,\n",
       " 2,\n",
       " 7,\n",
       " 1,\n",
       " 2,\n",
       " 3,\n",
       " 4,\n",
       " 5,\n",
       " 6,\n",
       " 7,\n",
       " 8,\n",
       " 4,\n",
       " 5,\n",
       " 6,\n",
       " 7,\n",
       " 8,\n",
       " 10,\n",
       " 20,\n",
       " 30,\n",
       " 50,\n",
       " 10,\n",
       " 20,\n",
       " 30,\n",
       " 40,\n",
       " 10,\n",
       " 20,\n",
       " 30,\n",
       " 60,\n",
       " 50]"
      ]
     },
     "execution_count": 35,
     "metadata": {},
     "output_type": "execute_result"
    }
   ],
   "source": [
    "L"
   ]
  },
  {
   "cell_type": "code",
   "execution_count": 36,
   "id": "671b8dd8-0aaf-4db0-8883-153b2e56fa30",
   "metadata": {},
   "outputs": [
    {
     "data": {
      "text/plain": [
       "50"
      ]
     },
     "execution_count": 36,
     "metadata": {},
     "output_type": "execute_result"
    }
   ],
   "source": [
    "L.pop(-1)"
   ]
  },
  {
   "cell_type": "code",
   "execution_count": 37,
   "id": "53d5c4e2-d2b1-4775-9562-aea459b73bed",
   "metadata": {},
   "outputs": [],
   "source": [
    "L.remove(L[-1])"
   ]
  },
  {
   "cell_type": "code",
   "execution_count": 39,
   "id": "31257c90-0842-42be-9e57-33d4a501aceb",
   "metadata": {},
   "outputs": [],
   "source": [
    "del L[-1]"
   ]
  },
  {
   "cell_type": "code",
   "execution_count": 42,
   "id": "4ec0c575-f149-4003-b490-23341ceada94",
   "metadata": {},
   "outputs": [],
   "source": [
    "L.reverse()"
   ]
  },
  {
   "cell_type": "code",
   "execution_count": 46,
   "id": "efd28d25-62e7-4e2b-bff5-2861899c4370",
   "metadata": {},
   "outputs": [],
   "source": [
    "t1 = (1, 2)"
   ]
  },
  {
   "cell_type": "code",
   "execution_count": 47,
   "id": "951a49ba-5bf2-49be-a461-4892d6933b7e",
   "metadata": {},
   "outputs": [],
   "source": [
    "t2 = (10, 20)"
   ]
  },
  {
   "cell_type": "code",
   "execution_count": 50,
   "id": "982f9fdc-c98f-4f88-b78a-5e14e6136d72",
   "metadata": {},
   "outputs": [],
   "source": [
    "L2 = list(zip(t1, t2))"
   ]
  },
  {
   "cell_type": "code",
   "execution_count": 51,
   "id": "1ce68ec8-82fa-4d04-bf32-b1bc11ee19c5",
   "metadata": {},
   "outputs": [
    {
     "data": {
      "text/plain": [
       "[(1, 10), (2, 20)]"
      ]
     },
     "execution_count": 51,
     "metadata": {},
     "output_type": "execute_result"
    }
   ],
   "source": [
    "L2"
   ]
  },
  {
   "cell_type": "code",
   "execution_count": 52,
   "id": "23f31155-daa4-46e3-b986-c1c05d84ff8e",
   "metadata": {},
   "outputs": [],
   "source": [
    "L3 = [x*10 for x in L]"
   ]
  },
  {
   "cell_type": "code",
   "execution_count": 58,
   "id": "88b55f49-7c0c-4816-8858-46f1cf06a919",
   "metadata": {},
   "outputs": [],
   "source": [
    "L4 = []"
   ]
  },
  {
   "cell_type": "code",
   "execution_count": 59,
   "id": "87a548f9-f153-4d93-a702-2761a6682f82",
   "metadata": {},
   "outputs": [],
   "source": [
    "for x in L:\n",
    "    L4.append(x*10)"
   ]
  },
  {
   "cell_type": "code",
   "execution_count": 60,
   "id": "dde7c666-ad29-4c3b-bb1a-1b9779d639c4",
   "metadata": {},
   "outputs": [
    {
     "data": {
      "text/plain": [
       "[200,\n",
       " 100,\n",
       " 400,\n",
       " 300,\n",
       " 200,\n",
       " 100,\n",
       " 500,\n",
       " 300,\n",
       " 200,\n",
       " 100,\n",
       " 80,\n",
       " 70,\n",
       " 60,\n",
       " 50,\n",
       " 40,\n",
       " 80,\n",
       " 70,\n",
       " 60,\n",
       " 50,\n",
       " 40,\n",
       " 30,\n",
       " 20,\n",
       " 10,\n",
       " 70,\n",
       " 20,\n",
       " 0]"
      ]
     },
     "execution_count": 60,
     "metadata": {},
     "output_type": "execute_result"
    }
   ],
   "source": [
    "L4"
   ]
  },
  {
   "cell_type": "code",
   "execution_count": 64,
   "id": "ff3620d7-89d8-4b32-b97d-dc5a4e98cf9a",
   "metadata": {},
   "outputs": [],
   "source": [
    "L.sort(key = lambda x : x % 2)"
   ]
  },
  {
   "cell_type": "code",
   "execution_count": 67,
   "id": "ad99a7e9-3115-4ede-9a3f-a7192088592a",
   "metadata": {},
   "outputs": [
    {
     "data": {
      "text/plain": [
       "[20,\n",
       " 10,\n",
       " 40,\n",
       " 30,\n",
       " 20,\n",
       " 10,\n",
       " 50,\n",
       " 30,\n",
       " 20,\n",
       " 10,\n",
       " 8,\n",
       " 6,\n",
       " 4,\n",
       " 8,\n",
       " 6,\n",
       " 4,\n",
       " 2,\n",
       " 2,\n",
       " 0,\n",
       " 7,\n",
       " 5,\n",
       " 7,\n",
       " 5,\n",
       " 3,\n",
       " 1,\n",
       " 7]"
      ]
     },
     "execution_count": 67,
     "metadata": {},
     "output_type": "execute_result"
    }
   ],
   "source": [
    "L"
   ]
  },
  {
   "cell_type": "code",
   "execution_count": null,
   "id": "29f137e0-2b0b-41f8-b3e7-ed1eadaf3698",
   "metadata": {},
   "outputs": [],
   "source": []
  }
 ],
 "metadata": {
  "kernelspec": {
   "display_name": "Python 3.10",
   "language": "python",
   "name": "python310"
  },
  "language_info": {
   "codemirror_mode": {
    "name": "ipython",
    "version": 3
   },
   "file_extension": ".py",
   "mimetype": "text/x-python",
   "name": "python",
   "nbconvert_exporter": "python",
   "pygments_lexer": "ipython3",
   "version": "3.10.4"
  }
 },
 "nbformat": 4,
 "nbformat_minor": 5
}
