{
 "cells": [
  {
   "cell_type": "code",
   "execution_count": 1,
   "id": "7a7c368e-3b83-4135-827a-702703160973",
   "metadata": {},
   "outputs": [
    {
     "name": "stdin",
     "output_type": "stream",
     "text": [
      "Wie ist ihr Name Prinz Kekw\n"
     ]
    }
   ],
   "source": [
    "Eingabe = input(\"Wie ist ihr Name my Lord\")"
   ]
  },
  {
   "cell_type": "code",
   "execution_count": 3,
   "id": "5b187c77-784f-4fef-98d4-67668a550e47",
   "metadata": {},
   "outputs": [
    {
     "name": "stdin",
     "output_type": "stream",
     "text": [
      "Wie ist ihr Name my Lord KekW\n",
      "Wie ist ihr Name my Lord KEKW\n",
      "Wie ist ihr Name my Lord KEKUS\n",
      "Wie ist ihr Name my Lord end\n"
     ]
    }
   ],
   "source": [
    "while Eingabe != \"end\":\n",
    "    Eingabe = input(\"Wie ist ihr Name my Lord\")"
   ]
  },
  {
   "cell_type": "code",
   "execution_count": 7,
   "id": "09790aa5-3c72-479f-99fb-5fdb302a79af",
   "metadata": {},
   "outputs": [],
   "source": [
    "with open(\"einsbis10.txt\", \"w\") as fobj:\n",
    "    for i in range (11):\n",
    "        fobj.writelines(str(i) + \"\\n\")"
   ]
  },
  {
   "cell_type": "code",
   "execution_count": 13,
   "id": "c92aa4a4-83c1-463c-8bdd-771d2fed1341",
   "metadata": {},
   "outputs": [],
   "source": [
    "with open (\"einsbis10.txt\") as fobj:\n",
    "    lines = fobj.read()\n",
    "    linesliste = fobj.readlines()"
   ]
  },
  {
   "cell_type": "code",
   "execution_count": 14,
   "id": "049d27ed-9386-453a-8244-2f9137e7f384",
   "metadata": {},
   "outputs": [
    {
     "name": "stdout",
     "output_type": "stream",
     "text": [
      "0\n",
      "1\n",
      "2\n",
      "3\n",
      "4\n",
      "5\n",
      "6\n",
      "7\n",
      "8\n",
      "9\n",
      "10\n",
      "\n"
     ]
    }
   ],
   "source": [
    "print(lines)"
   ]
  },
  {
   "cell_type": "code",
   "execution_count": 28,
   "id": "7817da8f-cecf-4531-963d-005604489ffe",
   "metadata": {},
   "outputs": [],
   "source": [
    "with open (\"einsbis10.txt\") as fobj:\n",
    "    lines =[line.rstrip('\\n') for line in fobj]\n",
    "    fobj.close"
   ]
  },
  {
   "cell_type": "code",
   "execution_count": 29,
   "id": "b37c0eef-1838-4365-88f2-b249945926f5",
   "metadata": {},
   "outputs": [
    {
     "name": "stdout",
     "output_type": "stream",
     "text": [
      "['0', '1', '2', '3', '4', '5', '6', '7', '8', '9', '10']\n"
     ]
    }
   ],
   "source": [
    "print(lines)"
   ]
  },
  {
   "cell_type": "code",
   "execution_count": 30,
   "id": "f2a7bd68-402f-4a97-94ca-cec773192e0c",
   "metadata": {},
   "outputs": [],
   "source": [
    "import pickle as p"
   ]
  },
  {
   "cell_type": "code",
   "execution_count": 31,
   "id": "093dae4a-4a9a-4fde-84d2-215b84d9651e",
   "metadata": {},
   "outputs": [],
   "source": [
    "data = [1, 2, 3]"
   ]
  },
  {
   "cell_type": "code",
   "execution_count": 34,
   "id": "49d868ff-b145-471c-a6bb-ef677d62e2be",
   "metadata": {},
   "outputs": [],
   "source": [
    "with open (\"einsbis10pickle.txt\", \"wb\") as fobj:\n",
    "    p.dump(data, fobj)"
   ]
  },
  {
   "cell_type": "code",
   "execution_count": 36,
   "id": "1960e44e-1cc5-4a16-bc1e-a7bf564b4397",
   "metadata": {},
   "outputs": [],
   "source": [
    "with open(\"einsbis10pickle.txt\", 'rb') as fobj:\n",
    "    loaded_data = p.load(fobj)"
   ]
  },
  {
   "cell_type": "code",
   "execution_count": 37,
   "id": "3744b982-abe0-47cb-b11f-144d16725932",
   "metadata": {},
   "outputs": [
    {
     "name": "stdout",
     "output_type": "stream",
     "text": [
      "[1, 2, 3]\n"
     ]
    }
   ],
   "source": [
    "print(loaded_data)"
   ]
  },
  {
   "cell_type": "code",
   "execution_count": null,
   "id": "363b52fa-e259-4bcc-8410-bc81eea61a62",
   "metadata": {},
   "outputs": [],
   "source": []
  }
 ],
 "metadata": {
  "kernelspec": {
   "display_name": "Python 3.10",
   "language": "python",
   "name": "python310"
  },
  "language_info": {
   "codemirror_mode": {
    "name": "ipython",
    "version": 3
   },
   "file_extension": ".py",
   "mimetype": "text/x-python",
   "name": "python",
   "nbconvert_exporter": "python",
   "pygments_lexer": "ipython3",
   "version": "3.10.4"
  }
 },
 "nbformat": 4,
 "nbformat_minor": 5
}
