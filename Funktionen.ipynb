{
 "cells": [
  {
   "cell_type": "code",
   "execution_count": 9,
   "id": "efe67d86-5ff9-4cb1-855a-4389bbd50bf7",
   "metadata": {},
   "outputs": [],
   "source": [
    "def zahlen():\n",
    "    '''Gibt alle Zahlen von 0 bis 9 aus'''\n",
    "    for x in range(10):\n",
    "        print(x)"
   ]
  },
  {
   "cell_type": "code",
   "execution_count": 10,
   "id": "1814807b-1588-4e60-9723-d3ff81011fa6",
   "metadata": {},
   "outputs": [
    {
     "name": "stdout",
     "output_type": "stream",
     "text": [
      "0\n",
      "1\n",
      "2\n",
      "3\n",
      "4\n",
      "5\n",
      "6\n",
      "7\n",
      "8\n",
      "9\n"
     ]
    }
   ],
   "source": [
    "zahlen()"
   ]
  },
  {
   "cell_type": "code",
   "execution_count": 16,
   "id": "27ade624-5613-48d1-89fd-e15dc5239833",
   "metadata": {},
   "outputs": [],
   "source": [
    "def doubleit(x):\n",
    "    '''Gibt das doppelte der eingegebenen Zahl zurück'''\n",
    "    x = x * 2\n",
    "    return x"
   ]
  },
  {
   "cell_type": "code",
   "execution_count": 17,
   "id": "db58e8a8-4e78-45b2-8a9a-0e3783b8de60",
   "metadata": {},
   "outputs": [
    {
     "data": {
      "text/plain": [
       "138"
      ]
     },
     "execution_count": 17,
     "metadata": {},
     "output_type": "execute_result"
    }
   ],
   "source": [
    "doubleit(69)"
   ]
  },
  {
   "cell_type": "code",
   "execution_count": 18,
   "id": "f68f11bf-f675-4354-b0b6-a85ebb692976",
   "metadata": {},
   "outputs": [],
   "source": [
    "def addStrings(s1, s2):\n",
    "    '''Fügt zwei Strings zusammen'''\n",
    "    return str(s1) + str(s2);"
   ]
  },
  {
   "cell_type": "code",
   "execution_count": 21,
   "id": "bdab94ca-3a93-4f10-a1cd-60e1da4494e7",
   "metadata": {},
   "outputs": [
    {
     "data": {
      "text/plain": [
       "'Peisen ist Schmutz'"
      ]
     },
     "execution_count": 21,
     "metadata": {},
     "output_type": "execute_result"
    }
   ],
   "source": [
    "addStrings(\"Peisen\", \" ist Schmutz\")"
   ]
  },
  {
   "cell_type": "code",
   "execution_count": 24,
   "id": "9a0d9029-63c6-47f6-bcc0-0d64fd5cf0e5",
   "metadata": {},
   "outputs": [],
   "source": [
    "def arithDing(z1, z2, z3):\n",
    "    '''Gibt das arithmetische Mittel der eingegeben Zahlen zurück'''\n",
    "    return int((int(z1) + int(z2) + int(z3)) / 3)"
   ]
  },
  {
   "cell_type": "code",
   "execution_count": 29,
   "id": "8b05c91c-7774-4a01-b76e-8b74662688dc",
   "metadata": {},
   "outputs": [
    {
     "data": {
      "text/plain": [
       "3288040"
      ]
     },
     "execution_count": 29,
     "metadata": {},
     "output_type": "execute_result"
    }
   ],
   "source": [
    "arithDing(3912, 12897, 9847312)"
   ]
  },
  {
   "cell_type": "code",
   "execution_count": 26,
   "id": "aa2c0ffe-2919-4380-a724-173112b414e7",
   "metadata": {},
   "outputs": [],
   "source": [
    "def arithDing2(z1, z2, z3 = None):\n",
    "    '''Gibt das arithmetische Mittel der eingegeben Zahlen zurück'''\n",
    "    if(z3 == None):\n",
    "        return int((int(z1) + int(z2)) / 2)\n",
    "    return int((int(z1) + int(z2) + int(z3)) / 3)\n"
   ]
  },
  {
   "cell_type": "code",
   "execution_count": 40,
   "id": "16795be7-d2e3-48bf-b4ff-cc41f5102f4d",
   "metadata": {},
   "outputs": [
    {
     "data": {
      "text/plain": [
       "32824545444"
      ]
     },
     "execution_count": 40,
     "metadata": {},
     "output_type": "execute_result"
    }
   ],
   "source": [
    "arithDing2(9182, 328719, 98473298432)"
   ]
  },
  {
   "cell_type": "code",
   "execution_count": null,
   "id": "3a53594b-5522-4348-8a67-f465cc117d16",
   "metadata": {},
   "outputs": [],
   "source": []
  },
  {
   "cell_type": "code",
   "execution_count": null,
   "id": "b1f6e345-c63e-4613-9721-84caf687e6ad",
   "metadata": {},
   "outputs": [],
   "source": []
  }
 ],
 "metadata": {
  "kernelspec": {
   "display_name": "Python 3.10",
   "language": "python",
   "name": "python310"
  },
  "language_info": {
   "codemirror_mode": {
    "name": "ipython",
    "version": 3
   },
   "file_extension": ".py",
   "mimetype": "text/x-python",
   "name": "python",
   "nbconvert_exporter": "python",
   "pygments_lexer": "ipython3",
   "version": "3.10.4"
  }
 },
 "nbformat": 4,
 "nbformat_minor": 5
}
