{
 "cells": [
  {
   "cell_type": "code",
   "execution_count": 33,
   "id": "61d4c103-7852-42c9-92cd-17c3007560b6",
   "metadata": {},
   "outputs": [],
   "source": [
    "class Person:\n",
    "    def __init__(self, name, standort):\n",
    "        self.name = name\n",
    "        self.standort = standort\n",
    "\n",
    "    def gehezu(self, newStandort):\n",
    "        self.standort = newStandort\n",
    "\n",
    "    def __rshift__(self, neuer_standort):\n",
    "        self.gehezu(neuer_standort)"
   ]
  },
  {
   "cell_type": "code",
   "execution_count": 34,
   "id": "32209ec1-d7a4-4287-bc7d-634a629d65b8",
   "metadata": {},
   "outputs": [],
   "source": [
    "person1 = Person(\"Felix\", \"Zuhause\")"
   ]
  },
  {
   "cell_type": "code",
   "execution_count": 35,
   "id": "9de148b8-103e-46e3-9954-004d5bbd2fb4",
   "metadata": {},
   "outputs": [],
   "source": [
    "person1.gehezu(\"BA Leipzig\")"
   ]
  },
  {
   "cell_type": "code",
   "execution_count": 36,
   "id": "81a94eed-e0ac-4eb2-a86c-697d6bc92d67",
   "metadata": {},
   "outputs": [
    {
     "data": {
      "text/plain": [
       "'BA Leipzig'"
      ]
     },
     "execution_count": 36,
     "metadata": {},
     "output_type": "execute_result"
    }
   ],
   "source": [
    "person1.standort"
   ]
  },
  {
   "cell_type": "code",
   "execution_count": 37,
   "id": "04edb0c8-3874-4c65-b285-a2f840283c58",
   "metadata": {},
   "outputs": [],
   "source": [
    "class EingeschraenktePerson(Person):\n",
    "    verboteneOrte = [\"BA Leipzig\", \"Grünau\"]\n",
    "\n",
    "    def gehezu(self, newStandort):\n",
    "        if newStandort in self.verboteneOrte:\n",
    "            print(f\"Der Zugang zu Ort {newStandort} ist verboten.\")\n",
    "        else:\n",
    "            self.standort = newStandort"
   ]
  },
  {
   "cell_type": "code",
   "execution_count": 38,
   "id": "d960435f-42c5-41c1-a60b-0e5e86fd0c17",
   "metadata": {},
   "outputs": [],
   "source": [
    "eingeschraenktePerson1 = EingeschraenktePerson(\"Fritz\", \"Puff\")"
   ]
  },
  {
   "cell_type": "code",
   "execution_count": 39,
   "id": "d302bb39-e33b-4452-a4e3-f9dff8ebdb38",
   "metadata": {},
   "outputs": [
    {
     "name": "stdout",
     "output_type": "stream",
     "text": [
      "Der Zugang zu Ort Grünau ist verboten.\n"
     ]
    }
   ],
   "source": [
    "eingeschraenktePerson1.gehezu(\"Grünau\")"
   ]
  },
  {
   "cell_type": "code",
   "execution_count": 40,
   "id": "785259cc-c3a0-44e7-a092-fbf176bf0543",
   "metadata": {},
   "outputs": [],
   "source": [
    "eingeschraenktePerson1.gehezu(\"Hbf\")"
   ]
  },
  {
   "cell_type": "code",
   "execution_count": 42,
   "id": "e3634a6d-ce62-4039-b36d-e8d831942f11",
   "metadata": {},
   "outputs": [
    {
     "data": {
      "text/plain": [
       "'Hbf'"
      ]
     },
     "execution_count": 42,
     "metadata": {},
     "output_type": "execute_result"
    }
   ],
   "source": [
    "eingeschraenktePerson1.standort"
   ]
  },
  {
   "cell_type": "code",
   "execution_count": 44,
   "id": "a8ca8ac6-843a-4cee-bb48-bd77c0ddcc27",
   "metadata": {},
   "outputs": [],
   "source": [
    "eingeschraenktePerson1 >> \"Ostsee\""
   ]
  },
  {
   "cell_type": "code",
   "execution_count": 46,
   "id": "d5ae6391-e864-408f-9b35-5b583a4f2863",
   "metadata": {},
   "outputs": [
    {
     "data": {
      "text/plain": [
       "'Ostsee'"
      ]
     },
     "execution_count": 46,
     "metadata": {},
     "output_type": "execute_result"
    }
   ],
   "source": [
    "eingeschraenktePerson1.standort"
   ]
  },
  {
   "cell_type": "code",
   "execution_count": null,
   "id": "659a555f-690d-42f8-ae01-7a328fef08a1",
   "metadata": {},
   "outputs": [],
   "source": []
  }
 ],
 "metadata": {
  "kernelspec": {
   "display_name": "Python 3.10",
   "language": "python",
   "name": "python310"
  },
  "language_info": {
   "codemirror_mode": {
    "name": "ipython",
    "version": 3
   },
   "file_extension": ".py",
   "mimetype": "text/x-python",
   "name": "python",
   "nbconvert_exporter": "python",
   "pygments_lexer": "ipython3",
   "version": "3.10.4"
  }
 },
 "nbformat": 4,
 "nbformat_minor": 5
}
