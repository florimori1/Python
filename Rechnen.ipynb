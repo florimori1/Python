{
 "cells": [
  {
   "cell_type": "code",
   "execution_count": 2,
   "id": "31e7b9cf-6ea9-4695-a03a-a49689871c76",
   "metadata": {},
   "outputs": [
    {
     "data": {
      "text/plain": [
       "4.0"
      ]
     },
     "execution_count": 2,
     "metadata": {},
     "output_type": "execute_result"
    }
   ],
   "source": [
    "(8 + 4)/3"
   ]
  },
  {
   "cell_type": "code",
   "execution_count": 3,
   "id": "6d0ab02c-62e1-4bf7-9336-f54a9b003b96",
   "metadata": {},
   "outputs": [],
   "source": [
    "a = (8 + 4)/3"
   ]
  },
  {
   "cell_type": "code",
   "execution_count": 4,
   "id": "33990f76-273d-4ced-9c6a-6e40420dee59",
   "metadata": {},
   "outputs": [],
   "source": [
    "import os"
   ]
  },
  {
   "cell_type": "code",
   "execution_count": null,
   "id": "bc4807e8-616e-4686-ab15-e6c2e1f75d06",
   "metadata": {},
   "outputs": [],
   "source": []
  }
 ],
 "metadata": {
  "kernelspec": {
   "display_name": "Python 3.10",
   "language": "python",
   "name": "python310"
  },
  "language_info": {
   "codemirror_mode": {
    "name": "ipython",
    "version": 3
   },
   "file_extension": ".py",
   "mimetype": "text/x-python",
   "name": "python",
   "nbconvert_exporter": "python",
   "pygments_lexer": "ipython3",
   "version": "3.10.4"
  }
 },
 "nbformat": 4,
 "nbformat_minor": 5
}
