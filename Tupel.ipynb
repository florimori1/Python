{
 "cells": [
  {
   "cell_type": "code",
   "execution_count": 2,
   "id": "ed04ff28-4b58-4cc4-ab7c-38ea1d74f42c",
   "metadata": {},
   "outputs": [],
   "source": [
    "T = (1, 2.3, \"kekw\", 4, 5.7841283, \"heheheha\", 7, 8.87234612387, \"Peisen\")"
   ]
  },
  {
   "cell_type": "code",
   "execution_count": 3,
   "id": "21edc3b1-75e5-4c8a-92c3-9e02d0de0277",
   "metadata": {},
   "outputs": [
    {
     "data": {
      "text/plain": [
       "2.3"
      ]
     },
     "execution_count": 3,
     "metadata": {},
     "output_type": "execute_result"
    }
   ],
   "source": [
    "T[1]"
   ]
  },
  {
   "cell_type": "code",
   "execution_count": 7,
   "id": "a8477ab0-6e22-4624-82a8-d2f5970159df",
   "metadata": {},
   "outputs": [],
   "source": [
    "G = T[1:-1]"
   ]
  },
  {
   "cell_type": "code",
   "execution_count": 8,
   "id": "fa9551e5-4114-4b3c-a673-577f2297f9a1",
   "metadata": {},
   "outputs": [
    {
     "data": {
      "text/plain": [
       "(2.3, 'kekw', 4, 5.7841283, 'heheheha', 7, 8.87234612387)"
      ]
     },
     "execution_count": 8,
     "metadata": {},
     "output_type": "execute_result"
    }
   ],
   "source": [
    "G"
   ]
  },
  {
   "cell_type": "code",
   "execution_count": 17,
   "id": "e2a884a7-d4b0-4eaf-b7c1-6a62679ef6ef",
   "metadata": {},
   "outputs": [],
   "source": [
    "H = T + T"
   ]
  },
  {
   "cell_type": "code",
   "execution_count": 18,
   "id": "79a4e358-f9ac-4ff9-9f83-e27b812acf3a",
   "metadata": {},
   "outputs": [],
   "source": [
    "H = H + T"
   ]
  },
  {
   "cell_type": "code",
   "execution_count": 19,
   "id": "7d5ce4e7-7df1-4358-aaac-2983545e30b1",
   "metadata": {},
   "outputs": [
    {
     "data": {
      "text/plain": [
       "(1,\n",
       " 2.3,\n",
       " 'kekw',\n",
       " 4,\n",
       " 5.7841283,\n",
       " 'heheheha',\n",
       " 7,\n",
       " 8.87234612387,\n",
       " 'Peisen',\n",
       " 1,\n",
       " 2.3,\n",
       " 'kekw',\n",
       " 4,\n",
       " 5.7841283,\n",
       " 'heheheha',\n",
       " 7,\n",
       " 8.87234612387,\n",
       " 'Peisen',\n",
       " 1,\n",
       " 2.3,\n",
       " 'kekw',\n",
       " 4,\n",
       " 5.7841283,\n",
       " 'heheheha',\n",
       " 7,\n",
       " 8.87234612387,\n",
       " 'Peisen')"
      ]
     },
     "execution_count": 19,
     "metadata": {},
     "output_type": "execute_result"
    }
   ],
   "source": [
    "H"
   ]
  },
  {
   "cell_type": "code",
   "execution_count": 32,
   "id": "13c9ad08-500f-4925-853b-c9168f881a72",
   "metadata": {},
   "outputs": [],
   "source": [
    "G7 = H[::-1]"
   ]
  },
  {
   "cell_type": "code",
   "execution_count": 31,
   "id": "0b96c8a5-69ed-483a-ba30-ec01a476b90d",
   "metadata": {},
   "outputs": [
    {
     "data": {
      "text/plain": [
       "('Peisen',\n",
       " 8.87234612387,\n",
       " 7,\n",
       " 'heheheha',\n",
       " 5.7841283,\n",
       " 4,\n",
       " 'kekw',\n",
       " 2.3,\n",
       " 1,\n",
       " 'Peisen',\n",
       " 8.87234612387,\n",
       " 7,\n",
       " 'heheheha',\n",
       " 5.7841283,\n",
       " 4,\n",
       " 'kekw',\n",
       " 2.3,\n",
       " 1,\n",
       " 'Peisen',\n",
       " 8.87234612387,\n",
       " 7,\n",
       " 'heheheha',\n",
       " 5.7841283,\n",
       " 4,\n",
       " 'kekw',\n",
       " 2.3,\n",
       " 1)"
      ]
     },
     "execution_count": 31,
     "metadata": {},
     "output_type": "execute_result"
    }
   ],
   "source": [
    "G7"
   ]
  },
  {
   "cell_type": "code",
   "execution_count": 37,
   "id": "228d010c-6a88-4d7b-8474-ba32d34b3067",
   "metadata": {},
   "outputs": [],
   "source": [
    "G8 = H[::-2]"
   ]
  },
  {
   "cell_type": "code",
   "execution_count": 38,
   "id": "14b0fb74-87e9-4188-bdb0-dafdb9da4e51",
   "metadata": {},
   "outputs": [
    {
     "data": {
      "text/plain": [
       "('Peisen',\n",
       " 7,\n",
       " 5.7841283,\n",
       " 'kekw',\n",
       " 1,\n",
       " 8.87234612387,\n",
       " 'heheheha',\n",
       " 4,\n",
       " 2.3,\n",
       " 'Peisen',\n",
       " 7,\n",
       " 5.7841283,\n",
       " 'kekw',\n",
       " 1)"
      ]
     },
     "execution_count": 38,
     "metadata": {},
     "output_type": "execute_result"
    }
   ],
   "source": [
    "G8"
   ]
  },
  {
   "cell_type": "code",
   "execution_count": 40,
   "id": "19dfca3e-fe3c-482d-86b5-63f354ebc9c4",
   "metadata": {},
   "outputs": [
    {
     "data": {
      "text/plain": [
       "True"
      ]
     },
     "execution_count": 40,
     "metadata": {},
     "output_type": "execute_result"
    }
   ],
   "source": [
    "\"Peisen\" in G7"
   ]
  },
  {
   "cell_type": "code",
   "execution_count": null,
   "id": "6121643c-50b9-4e6a-916c-0506253c2bbb",
   "metadata": {},
   "outputs": [],
   "source": []
  }
 ],
 "metadata": {
  "kernelspec": {
   "display_name": "Python 3.10",
   "language": "python",
   "name": "python310"
  },
  "language_info": {
   "codemirror_mode": {
    "name": "ipython",
    "version": 3
   },
   "file_extension": ".py",
   "mimetype": "text/x-python",
   "name": "python",
   "nbconvert_exporter": "python",
   "pygments_lexer": "ipython3",
   "version": "3.10.4"
  }
 },
 "nbformat": 4,
 "nbformat_minor": 5
}
